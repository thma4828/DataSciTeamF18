{
 "cells": [
  {
   "cell_type": "code",
   "execution_count": null,
   "metadata": {
    "scrolled": false
   },
   "outputs": [
    {
     "name": "stdout",
     "output_type": "stream",
     "text": [
      "1.11.0\n"
     ]
    },
    {
     "name": "stderr",
     "output_type": "stream",
     "text": [
      "C:\\Users\\tsmar\\Anaconda3\\lib\\site-packages\\ipykernel_launcher.py:25: SettingWithCopyWarning: \n",
      "A value is trying to be set on a copy of a slice from a DataFrame.\n",
      "Try using .loc[row_indexer,col_indexer] = value instead\n",
      "\n",
      "See the caveats in the documentation: http://pandas.pydata.org/pandas-docs/stable/indexing.html#indexing-view-versus-copy\n",
      "C:\\Users\\tsmar\\Anaconda3\\lib\\site-packages\\ipykernel_launcher.py:26: SettingWithCopyWarning: \n",
      "A value is trying to be set on a copy of a slice from a DataFrame.\n",
      "Try using .loc[row_indexer,col_indexer] = value instead\n",
      "\n",
      "See the caveats in the documentation: http://pandas.pydata.org/pandas-docs/stable/indexing.html#indexing-view-versus-copy\n",
      "C:\\Users\\tsmar\\Anaconda3\\lib\\site-packages\\ipykernel_launcher.py:27: SettingWithCopyWarning: \n",
      "A value is trying to be set on a copy of a slice from a DataFrame.\n",
      "Try using .loc[row_indexer,col_indexer] = value instead\n",
      "\n",
      "See the caveats in the documentation: http://pandas.pydata.org/pandas-docs/stable/indexing.html#indexing-view-versus-copy\n",
      "C:\\Users\\tsmar\\Anaconda3\\lib\\site-packages\\ipykernel_launcher.py:28: SettingWithCopyWarning: \n",
      "A value is trying to be set on a copy of a slice from a DataFrame.\n",
      "Try using .loc[row_indexer,col_indexer] = value instead\n",
      "\n",
      "See the caveats in the documentation: http://pandas.pydata.org/pandas-docs/stable/indexing.html#indexing-view-versus-copy\n",
      "C:\\Users\\tsmar\\Anaconda3\\lib\\site-packages\\ipykernel_launcher.py:29: SettingWithCopyWarning: \n",
      "A value is trying to be set on a copy of a slice from a DataFrame.\n",
      "Try using .loc[row_indexer,col_indexer] = value instead\n",
      "\n",
      "See the caveats in the documentation: http://pandas.pydata.org/pandas-docs/stable/indexing.html#indexing-view-versus-copy\n",
      "C:\\Users\\tsmar\\Anaconda3\\lib\\site-packages\\ipykernel_launcher.py:30: SettingWithCopyWarning: \n",
      "A value is trying to be set on a copy of a slice from a DataFrame.\n",
      "Try using .loc[row_indexer,col_indexer] = value instead\n",
      "\n",
      "See the caveats in the documentation: http://pandas.pydata.org/pandas-docs/stable/indexing.html#indexing-view-versus-copy\n",
      "C:\\Users\\tsmar\\Anaconda3\\lib\\site-packages\\ipykernel_launcher.py:60: UserWarning: Update your `Dense` call to the Keras 2 API: `Dense(300, input_dim=4, kernel_initializer=\"uniform\")`\n",
      "C:\\Users\\tsmar\\Anaconda3\\lib\\site-packages\\ipykernel_launcher.py:61: UserWarning: Update your `Dense` call to the Keras 2 API: `Dense(16, activation=\"relu\", kernel_initializer=\"uniform\")`\n",
      "C:\\Users\\tsmar\\Anaconda3\\lib\\site-packages\\ipykernel_launcher.py:62: UserWarning: Update your `Dense` call to the Keras 2 API: `Dense(16, activation=\"relu\", kernel_initializer=\"uniform\")`\n",
      "C:\\Users\\tsmar\\Anaconda3\\lib\\site-packages\\ipykernel_launcher.py:63: UserWarning: Update your `Dense` call to the Keras 2 API: `Dense(2, activation=\"softmax\", kernel_initializer=\"uniform\")`\n"
     ]
    },
    {
     "name": "stdout",
     "output_type": "stream",
     "text": [
      "Epoch 1/10\n",
      "2493/2493 [==============================] - ETA: 0s - loss: nan - acc: 0.7837 - 1s 531us/step - loss: nan - acc: 0.7874\n",
      "Epoch 2/10\n",
      "2493/2493 [==============================] - 0s 70us/step - loss: nan - acc: 0.7994\n",
      "Epoch 3/10\n",
      "2493/2493 [==============================] - 0s 62us/step - loss: nan - acc: 0.7994\n",
      "Epoch 4/10\n",
      "1600/2493 [==================>...........] - ETA: 0s - loss: nan - acc: 0.7937"
     ]
    }
   ],
   "source": [
    "import tensorflow as tf\n",
    "from tensorflow import keras\n",
    "\n",
    "from sklearn.preprocessing import OneHotEncoder\n",
    "\n",
    "from keras.layers import Input, Dense, Activation\n",
    "from keras.models import Sequential\n",
    "from keras.models import Model\n",
    "\n",
    "import numpy as np\n",
    "import matplotlib.pyplot as plt\n",
    "from keras.optimizers import Adam\n",
    "import pandas as pd\n",
    "\n",
    "print(tf.__version__)\n",
    "\n",
    "#the first thing we need to do is get the data and the labels for the data. \n",
    "DataFrameMain = pd.read_csv(\"C:/Users/tsmar/election_dataframe.csv\")\n",
    "DataFrame = DataFrameMain.select_dtypes(include=[\"int\", \"float\"])\n",
    "headers = list(DataFrame.columns.values)\n",
    "jj = int(0.8*len(DataFrame))\n",
    "kk = int(0.2*len(DataFrame))\n",
    "\n",
    "#these are the columns I will train on for now.\n",
    "DataFrame[\"meanGOP\"] = DataFrame[[\"Republicans 2016\", \"Republicans 2012\", \"Republicans 2008\"]].mean(axis=1) / 100\n",
    "DataFrame[\"meanDEM\"] = DataFrame[[\"Democrats 2016\", \"Democrats 2012\", \"Democrats 2008\"]].mean(axis=1) / 100\n",
    "DataFrame[\"Percent of adults with a bachelor's degree or higher, 2012-2016\"] = DataFrame[\"Percent of adults with a bachelor's degree or higher, 2012-2016\"] / 100\n",
    "DataFrame[\"Percent of adults completing some college or associate's degree, 2012-2016\"] = DataFrame[\"Percent of adults completing some college or associate's degree, 2012-2016\"] / 100\n",
    "DataFrame[\"Percent of adults with a high school diploma only, 2012-2016\"] = DataFrame[\"Percent of adults with a high school diploma only, 2012-2016\"] / 100\n",
    "DataFrame[\"Percent of adults with less than a high school diploma, 2012-2016\"] = DataFrame[\"Percent of adults with less than a high school diploma, 2012-2016\"]/100\n",
    "#make test and train data split 80/20\n",
    "trainData = DataFrame[[\"meanGOP\",\"meanDEM\",\"Percent of adults with a bachelor's degree or higher, 2012-2016\",\"Percent of adults completing some college or associate's degree, 2012-2016\",\"Percent of adults with a high school diploma only, 2012-2016\",\"Percent of adults with less than a high school diploma, 2012-2016\"]][0:jj]\n",
    "testData = DataFrame[[\"meanGOP\",\"meanDEM\",\"Percent of adults with a bachelor's degree or higher, 2012-2016\",\"Percent of adults completing some college or associate's degree, 2012-2016\",\"Percent of adults with a high school diploma only, 2012-2016\",\"Percent of adults with less than a high school diploma, 2012-2016\"]][-1*kk:]\n",
    "trainLabels = []\n",
    "testLabels = []\n",
    "#build the train Labels\n",
    "for index in range(0, len(trainData[\"meanGOP\"])):\n",
    "    rawData = trainData.values\n",
    "    j = rawData[index][0]\n",
    "    k = rawData[index][1]\n",
    "    if j > k:\n",
    "        trainLabels.append(np.array([1, 0])) #gop\n",
    "    else:\n",
    "        trainLabels.append(np.array([0, 1])) #dem\n",
    "    \n",
    "#build the test labels\n",
    "for index in range(0, len(testData[\"meanGOP\"])):\n",
    "    rawData = testData.values\n",
    "    j = rawData[index][0]\n",
    "    k = rawData[index][1]\n",
    "    if j > k:\n",
    "        testLabels.append(np.array([1, 0])) #gop\n",
    "    else:\n",
    "        testLabels.append(np.array([0, 1])) #dem\n",
    "        \n",
    "data_train = np.array(trainData[[\"Percent of adults with a bachelor's degree or higher, 2012-2016\",\"Percent of adults completing some college or associate's degree, 2012-2016\",\"Percent of adults with a high school diploma only, 2012-2016\",\"Percent of adults with less than a high school diploma, 2012-2016\"]].values, dtype='float64')\n",
    "data_test = np.array(testData[[\"Percent of adults with a bachelor's degree or higher, 2012-2016\",\"Percent of adults completing some college or associate's degree, 2012-2016\",\"Percent of adults with a high school diploma only, 2012-2016\",\"Percent of adults with less than a high school diploma, 2012-2016\"]].values, dtype='float64') \n",
    "\n",
    "model = Sequential()\n",
    "model.add(Dense(300, input_dim=4, init='uniform'))\n",
    "model.add(Dense(16, activation='relu',init='uniform' ))\n",
    "model.add(Dense(16, activation='relu',init='uniform'))\n",
    "model.add(Dense(2, activation='softmax', init=\"uniform\"))\n",
    "\n",
    "model.compile(optimizer=Adam(lr=0.04),loss='categorical_crossentropy',metrics=['accuracy'])\n",
    "\n",
    "model.fit(data_train, np.array(trainLabels), epochs=10, verbose=1)\n",
    "\n",
    "#for j in range(len(data_train)):\n",
    "    #print(data_train[j], \" should get mapped to: \", trainLabels[j])"
   ]
  },
  {
   "cell_type": "code",
   "execution_count": null,
   "metadata": {},
   "outputs": [],
   "source": []
  }
 ],
 "metadata": {
  "kernelspec": {
   "display_name": "Python 3",
   "language": "python",
   "name": "python3"
  },
  "language_info": {
   "codemirror_mode": {
    "name": "ipython",
    "version": 3
   },
   "file_extension": ".py",
   "mimetype": "text/x-python",
   "name": "python",
   "nbconvert_exporter": "python",
   "pygments_lexer": "ipython3",
   "version": "3.6.5"
  }
 },
 "nbformat": 4,
 "nbformat_minor": 2
}
