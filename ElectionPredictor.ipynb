{
 "cells": [
  {
   "cell_type": "code",
   "execution_count": null,
   "metadata": {},
   "outputs": [],
   "source": [
    "# If we need more data, reach out Nora Connor. Recent PhD grad. \n",
    "\n",
    "import numpy as np\n",
    "import pandas as pd\n",
    "pd.set_option('display.max_rows', 10000)\n",
    "pd.set_option('display.max_columns', 1000)"
   ]
  },
  {
   "cell_type": "code",
   "execution_count": null,
   "metadata": {},
   "outputs": [],
   "source": [
    "# Working Copy: contains some demographics, election results, and party classification\n",
    "# Alaska has been removed from all analysis because they do not report election data at county level\n",
    "counties = pd.read_csv('/Users/mchifala/Desktop/CSCI_5802/usa-2016-presidential-election-by-county.csv')\n",
    "counties['County'] = df['County'].apply(lambda x: x.split(',')[0])\n",
    "counties = counties[counties['State'].notnull()]\n",
    "counties.set_index(['State','FIPS Code'], inplace = True)\n",
    "counties.sort_index(inplace = True)\n",
    "counties.drop(index='AK',inplace=True)\n",
    "counties['Classification'] = np.where(counties['Republicans 2016'] > counties['Democrats 2016'], 'Republican', 'Democrat')\n"
   ]
  },
  {
   "cell_type": "code",
   "execution_count": null,
   "metadata": {},
   "outputs": [],
   "source": [
    "# Working copy\n",
    "# There are gaps in the county codes numbers for America Samoa, Gaum, etc. \n",
    "education = pd.read_excel('/Users/mchifala/Desktop/CSCI_5802/Education.xls', header = 4)\n",
    "education = education[(education['State'] != 'PR') & (education['State'] != 'AK')]\n",
    "states = np.linspace(0, 56000, 57)\n",
    "education = education[~education['FIPS Code'].isin(states)]\n",
    "education.set_index(['State','FIPS Code'], inplace = True)\n",
    "education.sort_index(inplace = True)\n",
    "education\n"
   ]
  },
  {
   "cell_type": "code",
   "execution_count": null,
   "metadata": {},
   "outputs": [],
   "source": [
    "# Working copy\n",
    "# There are gaps in the county codes numbers for America Samoa, Gaum, etc. \n",
    "poverty = pd.read_excel('/Users/mchifala/Desktop/CSCI_5802/PovertyEstimates.xls', header = 3)\n",
    "poverty.rename(index=str, columns={\"FIPStxt\": 'FIPS Code'},inplace=True)\n",
    "poverty = poverty[(poverty['State'] != 'PR') & (poverty['State'] != 'AK')]\n",
    "states = np.linspace(0, 56000, 57)\n",
    "poverty = poverty[~poverty['FIPS Code'].isin(states)]\n",
    "poverty.set_index(['State','FIPS Code'], inplace = True)\n",
    "poverty.sort_index(inplace = True)\n",
    "len(poverty)\n"
   ]
  },
  {
   "cell_type": "code",
   "execution_count": null,
   "metadata": {},
   "outputs": [],
   "source": [
    "# Check for missing county codes between dataframes\n",
    "poverty.index.difference(education.index)"
   ]
  },
  {
   "cell_type": "code",
   "execution_count": null,
   "metadata": {},
   "outputs": [],
   "source": [
    "# Merge dataframes by multi-index\n",
    "merged = counties.join([poverty,education],how='outer')\n",
    "merged"
   ]
  },
  {
   "cell_type": "code",
   "execution_count": null,
   "metadata": {},
   "outputs": [],
   "source": []
  },
  {
   "cell_type": "code",
   "execution_count": null,
   "metadata": {},
   "outputs": [],
   "source": []
  }
 ],
 "metadata": {
  "kernelspec": {
   "display_name": "Python 3",
   "language": "python",
   "name": "python3"
  },
  "language_info": {
   "codemirror_mode": {
    "name": "ipython",
    "version": 3
   },
   "file_extension": ".py",
   "mimetype": "text/x-python",
   "name": "python",
   "nbconvert_exporter": "python",
   "pygments_lexer": "ipython3",
   "version": "3.6.5"
  }
 },
 "nbformat": 4,
 "nbformat_minor": 2
}
